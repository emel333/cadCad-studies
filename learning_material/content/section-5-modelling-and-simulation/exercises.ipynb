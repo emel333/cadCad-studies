{
 "cells": [
  {
   "cell_type": "markdown",
   "metadata": {
    "slideshow": {
     "slide_type": "-"
    }
   },
   "source": [
    "<span style=\"display:block;text-align:center;margin-right:105px\"><img src=\"../../media/logos/logo-vertical.png\" width=\"200\"/></span>\n",
    "\n",
    "# Section 5: Modelling & Simulation Exercises\n",
    "\n",
    "---"
   ]
  },
  {
   "cell_type": "markdown",
   "metadata": {},
   "source": [
    "## Exercise 1: Partial State Update Blocks\n",
    "\n",
    "Given the following policy function `p_example`, state update function `s_example`, and list of partial state update blocks `partial_state_update_blocks`, answer the following questions:"
   ]
  },
  {
   "cell_type": "code",
   "execution_count": 21,
   "metadata": {},
   "outputs": [],
   "source": [
    "def p_example(params, substep, state_history, previous_state):\n",
    "    return {'example_signal': 1}\n",
    "    \n",
    "def s_example(params, substep, state_history, previous_state, policy_input):\n",
    "    example_signal = policy_input['example_signal']\n",
    "    return 'example_state', example_signal\n",
    "\n",
    "partial_state_update_blocks = [\n",
    "    {\n",
    "        'policies': {\n",
    "            'example_policy': p_example\n",
    "        },\n",
    "        'variables': {\n",
    "            'example_state': s_example\n",
    "        }\n",
    "    }\n",
    "]"
   ]
  },
  {
   "cell_type": "markdown",
   "metadata": {},
   "source": [
    "### 1. After one timestep, what will the value of the state variable `example_state` be?"
   ]
  },
  {
   "cell_type": "markdown",
   "metadata": {},
   "source": [
    "*Answer here in the markdown cell:*\n",
    "The value of example_state will be 1."
   ]
  },
  {
   "cell_type": "markdown",
   "metadata": {},
   "source": [
    "### 2. How many substeps will the timestep have?"
   ]
  },
  {
   "cell_type": "markdown",
   "metadata": {},
   "source": [
    "*Answer here in the markdown cell:*\n",
    "The timestep will have 1 substep, because there is only one partial state update block."
   ]
  },
  {
   "cell_type": "markdown",
   "metadata": {},
   "source": [
    "## Exercise 2: Differential Specification\n",
    "\n",
    "Given the following differential specification diagram, with two policy functions `p_example_1` and `p_example_2`, two state update functions `s_example_1` and `s_example_2`, and two states `state_1` and `state_2`, complete the following exercises and questions, assuming the two policy functions return the same signal key value pair of `{'example_signal': 1}`:"
   ]
  },
  {
   "cell_type": "markdown",
   "metadata": {},
   "source": [
    "<center>\n",
    "<img src=\"./images/s5-exercise-diff-spec.png\"\n",
    "     alt=\"Exercise diff. spec.\"\n",
    "     style=\"width: 60%;\" />\n",
    "</center>"
   ]
  },
  {
   "cell_type": "markdown",
   "metadata": {},
   "source": [
    "### 1. Complete the two policy functions and state update functions."
   ]
  },
  {
   "cell_type": "code",
   "execution_count": 20,
   "metadata": {},
   "outputs": [],
   "source": [
    "# The following functions are incomplete - fill in the gaps and run the cell\n",
    "\n",
    "# Fill in function arguments\n",
    "def p_example_1(params, substep, state_history, previous_state):\n",
    "    # Fill in return value\n",
    "    return {'example_signal': 1}\n",
    "\n",
    "# Fill in function arguments\n",
    "def p_example_2(params, substep, state_history, previous_state):\n",
    "    # Fill in return value\n",
    "    return {'example_signal': 1}\n",
    "\n",
    "# Fill in function arguments\n",
    "def s_example_1(params, substep, state_history, previous_state, policy_input):\n",
    "    # Hint: take the differential spec. diagram as the source of truth, and correct the function\n",
    "    #new_state = policy_input['example_signal']\n",
    "    # Fill in return value\n",
    "    return 'state_1', 0\n",
    "\n",
    "# Fill in function arguments\n",
    "def s_example_2(params, substep, state_history, previous_state, policy_input):\n",
    "    # Fill in policy signal key\n",
    "    new_state = policy_input['example_signal']\n",
    "    # Fill in return value\n",
    "    return 'state_2', new_state"
   ]
  },
  {
   "cell_type": "markdown",
   "metadata": {},
   "source": [
    "### 2. Fill in the partial state update block to properly represent the differential specification."
   ]
  },
  {
   "cell_type": "code",
   "execution_count": 22,
   "metadata": {},
   "outputs": [],
   "source": [
    "# The following statement is incomplete - fill in the gaps and run the cell\n",
    "\n",
    "partial_state_update_blocks = [\n",
    "    {\n",
    "        'policies': {'p_example_1': p_example_1,\n",
    "                     'p_example_2': p_example_2\n",
    "                    }, # Fill in policies\n",
    "        'variables': { # Fill in state update functions\n",
    "            'state_1':s_example_1,\n",
    "            'state_2':s_example_2\n",
    "        }\n",
    "    }\n",
    "]"
   ]
  },
  {
   "cell_type": "markdown",
   "metadata": {},
   "source": [
    "### 3. What happens when two policy functions return the same signal key, and what signal value would be passed to the state update function `s_example_2` (note the assumptions)?"
   ]
  },
  {
   "cell_type": "markdown",
   "metadata": {},
   "source": [
    "*Answer here in the markdown cell:*\n",
    "Aggregation happens, and by default this means addition of the two signal values. 2 would be passed to the state update function."
   ]
  },
  {
   "cell_type": "markdown",
   "metadata": {},
   "source": [
    "## Exercise 3: Simulation Data Manipulation and Analysis\n",
    "\n",
    "Given the Pandas dataframe `df` from our section 5 ecosystem model simulation, complete the following exercises and questions using Pandas data manipulation where necessary:"
   ]
  },
  {
   "cell_type": "code",
   "execution_count": 9,
   "metadata": {},
   "outputs": [
    {
     "data": {
      "text/html": [
       "<div>\n",
       "<style scoped>\n",
       "    .dataframe tbody tr th:only-of-type {\n",
       "        vertical-align: middle;\n",
       "    }\n",
       "\n",
       "    .dataframe tbody tr th {\n",
       "        vertical-align: top;\n",
       "    }\n",
       "\n",
       "    .dataframe thead th {\n",
       "        text-align: right;\n",
       "    }\n",
       "</style>\n",
       "<table border=\"1\" class=\"dataframe\">\n",
       "  <thead>\n",
       "    <tr style=\"text-align: right;\">\n",
       "      <th></th>\n",
       "      <th>Unnamed: 0</th>\n",
       "      <th>population</th>\n",
       "      <th>food</th>\n",
       "      <th>simulation</th>\n",
       "      <th>subset</th>\n",
       "      <th>run</th>\n",
       "      <th>substep</th>\n",
       "      <th>timestep</th>\n",
       "    </tr>\n",
       "  </thead>\n",
       "  <tbody>\n",
       "    <tr>\n",
       "      <th>0</th>\n",
       "      <td>0</td>\n",
       "      <td>50</td>\n",
       "      <td>1000.00</td>\n",
       "      <td>0</td>\n",
       "      <td>0</td>\n",
       "      <td>1</td>\n",
       "      <td>0</td>\n",
       "      <td>0</td>\n",
       "    </tr>\n",
       "    <tr>\n",
       "      <th>1</th>\n",
       "      <td>1</td>\n",
       "      <td>60</td>\n",
       "      <td>1009.50</td>\n",
       "      <td>0</td>\n",
       "      <td>0</td>\n",
       "      <td>1</td>\n",
       "      <td>1</td>\n",
       "      <td>1</td>\n",
       "    </tr>\n",
       "    <tr>\n",
       "      <th>2</th>\n",
       "      <td>2</td>\n",
       "      <td>71</td>\n",
       "      <td>1018.90</td>\n",
       "      <td>0</td>\n",
       "      <td>0</td>\n",
       "      <td>1</td>\n",
       "      <td>1</td>\n",
       "      <td>2</td>\n",
       "    </tr>\n",
       "    <tr>\n",
       "      <th>3</th>\n",
       "      <td>3</td>\n",
       "      <td>82</td>\n",
       "      <td>1028.19</td>\n",
       "      <td>0</td>\n",
       "      <td>0</td>\n",
       "      <td>1</td>\n",
       "      <td>1</td>\n",
       "      <td>3</td>\n",
       "    </tr>\n",
       "    <tr>\n",
       "      <th>4</th>\n",
       "      <td>4</td>\n",
       "      <td>93</td>\n",
       "      <td>1037.37</td>\n",
       "      <td>0</td>\n",
       "      <td>0</td>\n",
       "      <td>1</td>\n",
       "      <td>1</td>\n",
       "      <td>4</td>\n",
       "    </tr>\n",
       "    <tr>\n",
       "      <th>...</th>\n",
       "      <td>...</td>\n",
       "      <td>...</td>\n",
       "      <td>...</td>\n",
       "      <td>...</td>\n",
       "      <td>...</td>\n",
       "      <td>...</td>\n",
       "      <td>...</td>\n",
       "      <td>...</td>\n",
       "    </tr>\n",
       "    <tr>\n",
       "      <th>797</th>\n",
       "      <td>797</td>\n",
       "      <td>1102</td>\n",
       "      <td>902.16</td>\n",
       "      <td>1</td>\n",
       "      <td>0</td>\n",
       "      <td>1</td>\n",
       "      <td>1</td>\n",
       "      <td>396</td>\n",
       "    </tr>\n",
       "    <tr>\n",
       "      <th>798</th>\n",
       "      <td>798</td>\n",
       "      <td>1101</td>\n",
       "      <td>901.14</td>\n",
       "      <td>1</td>\n",
       "      <td>0</td>\n",
       "      <td>1</td>\n",
       "      <td>1</td>\n",
       "      <td>397</td>\n",
       "    </tr>\n",
       "    <tr>\n",
       "      <th>799</th>\n",
       "      <td>799</td>\n",
       "      <td>1100</td>\n",
       "      <td>900.13</td>\n",
       "      <td>1</td>\n",
       "      <td>0</td>\n",
       "      <td>1</td>\n",
       "      <td>1</td>\n",
       "      <td>398</td>\n",
       "    </tr>\n",
       "    <tr>\n",
       "      <th>800</th>\n",
       "      <td>800</td>\n",
       "      <td>1099</td>\n",
       "      <td>899.13</td>\n",
       "      <td>1</td>\n",
       "      <td>0</td>\n",
       "      <td>1</td>\n",
       "      <td>1</td>\n",
       "      <td>399</td>\n",
       "    </tr>\n",
       "    <tr>\n",
       "      <th>801</th>\n",
       "      <td>801</td>\n",
       "      <td>1098</td>\n",
       "      <td>898.14</td>\n",
       "      <td>1</td>\n",
       "      <td>0</td>\n",
       "      <td>1</td>\n",
       "      <td>1</td>\n",
       "      <td>400</td>\n",
       "    </tr>\n",
       "  </tbody>\n",
       "</table>\n",
       "<p>802 rows × 8 columns</p>\n",
       "</div>"
      ],
      "text/plain": [
       "     Unnamed: 0  population     food  simulation  subset  run  substep  \\\n",
       "0             0          50  1000.00           0       0    1        0   \n",
       "1             1          60  1009.50           0       0    1        1   \n",
       "2             2          71  1018.90           0       0    1        1   \n",
       "3             3          82  1028.19           0       0    1        1   \n",
       "4             4          93  1037.37           0       0    1        1   \n",
       "..          ...         ...      ...         ...     ...  ...      ...   \n",
       "797         797        1102   902.16           1       0    1        1   \n",
       "798         798        1101   901.14           1       0    1        1   \n",
       "799         799        1100   900.13           1       0    1        1   \n",
       "800         800        1099   899.13           1       0    1        1   \n",
       "801         801        1098   898.14           1       0    1        1   \n",
       "\n",
       "     timestep  \n",
       "0           0  \n",
       "1           1  \n",
       "2           2  \n",
       "3           3  \n",
       "4           4  \n",
       "..        ...  \n",
       "797       396  \n",
       "798       397  \n",
       "799       398  \n",
       "800       399  \n",
       "801       400  \n",
       "\n",
       "[802 rows x 8 columns]"
      ]
     },
     "execution_count": 9,
     "metadata": {},
     "output_type": "execute_result"
    }
   ],
   "source": [
    "import pandas as pd\n",
    "\n",
    "df = pd.read_csv('exercise.csv')\n",
    "df"
   ]
  },
  {
   "cell_type": "markdown",
   "metadata": {},
   "source": [
    "### 1. What is the **maximum** food supply for simulation `1`?"
   ]
  },
  {
   "cell_type": "code",
   "execution_count": 17,
   "metadata": {},
   "outputs": [
    {
     "data": {
      "text/plain": [
       "1499.7199999999998"
      ]
     },
     "execution_count": 17,
     "metadata": {},
     "output_type": "execute_result"
    }
   ],
   "source": [
    "# The following statements are incomplete - fill in the gaps and run the cell\n",
    "df_simulation_1 = df.query('simulation == 1')\n",
    "df_simulation_1['food'].max()"
   ]
  },
  {
   "cell_type": "markdown",
   "metadata": {},
   "source": [
    "### 2. What is the **difference** between the maximum population for simulation `0` and `1`?"
   ]
  },
  {
   "cell_type": "code",
   "execution_count": 18,
   "metadata": {},
   "outputs": [
    {
     "data": {
      "text/plain": [
       "1133"
      ]
     },
     "execution_count": 18,
     "metadata": {},
     "output_type": "execute_result"
    }
   ],
   "source": [
    "# The following statements are incomplete - fill in the gaps and run the cell\n",
    "max_population_simulation_0 = df.query('simulation ==0')['population'].max()\n",
    "max_population_simulation_1 = df.query('simulation ==1')['population'].max()\n",
    "\n",
    "max_population_simulation_0 - max_population_simulation_1"
   ]
  },
  {
   "cell_type": "markdown",
   "metadata": {},
   "source": [
    "### 3. Using a Plotly line chart, plot the food supply **rate of change** over time for simulation `1`, using the Pandas `diff()` method."
   ]
  },
  {
   "cell_type": "code",
   "execution_count": 23,
   "metadata": {},
   "outputs": [
    {
     "data": {
      "application/vnd.plotly.v1+json": {
       "config": {
        "plotlyServerURL": "https://plot.ly"
       },
       "data": [
        {
         "hovertemplate": "variable=food_diff<br>timestep=%{x}<br>value=%{y}<extra></extra>",
         "legendgroup": "food_diff",
         "line": {
          "color": "#636efa",
          "dash": "solid"
         },
         "mode": "lines",
         "name": "food_diff",
         "orientation": "v",
         "showlegend": true,
         "type": "scatter",
         "x": [
          0,
          1,
          2,
          3,
          4,
          5,
          6,
          7,
          8,
          9,
          10,
          11,
          12,
          13,
          14,
          15,
          16,
          17,
          18,
          19,
          20,
          21,
          22,
          23,
          24,
          25,
          26,
          27,
          28,
          29,
          30,
          31,
          32,
          33,
          34,
          35,
          36,
          37,
          38,
          39,
          40,
          41,
          42,
          43,
          44,
          45,
          46,
          47,
          48,
          49,
          50,
          51,
          52,
          53,
          54,
          55,
          56,
          57,
          58,
          59,
          60,
          61,
          62,
          63,
          64,
          65,
          66,
          67,
          68,
          69,
          70,
          71,
          72,
          73,
          74,
          75,
          76,
          77,
          78,
          79,
          80,
          81,
          82,
          83,
          84,
          85,
          86,
          87,
          88,
          89,
          90,
          91,
          92,
          93,
          94,
          95,
          96,
          97,
          98,
          99,
          100,
          101,
          102,
          103,
          104,
          105,
          106,
          107,
          108,
          109,
          110,
          111,
          112,
          113,
          114,
          115,
          116,
          117,
          118,
          119,
          120,
          121,
          122,
          123,
          124,
          125,
          126,
          127,
          128,
          129,
          130,
          131,
          132,
          133,
          134,
          135,
          136,
          137,
          138,
          139,
          140,
          141,
          142,
          143,
          144,
          145,
          146,
          147,
          148,
          149,
          150,
          151,
          152,
          153,
          154,
          155,
          156,
          157,
          158,
          159,
          160,
          161,
          162,
          163,
          164,
          165,
          166,
          167,
          168,
          169,
          170,
          171,
          172,
          173,
          174,
          175,
          176,
          177,
          178,
          179,
          180,
          181,
          182,
          183,
          184,
          185,
          186,
          187,
          188,
          189,
          190,
          191,
          192,
          193,
          194,
          195,
          196,
          197,
          198,
          199,
          200,
          201,
          202,
          203,
          204,
          205,
          206,
          207,
          208,
          209,
          210,
          211,
          212,
          213,
          214,
          215,
          216,
          217,
          218,
          219,
          220,
          221,
          222,
          223,
          224,
          225,
          226,
          227,
          228,
          229,
          230,
          231,
          232,
          233,
          234,
          235,
          236,
          237,
          238,
          239,
          240,
          241,
          242,
          243,
          244,
          245,
          246,
          247,
          248,
          249,
          250,
          251,
          252,
          253,
          254,
          255,
          256,
          257,
          258,
          259,
          260,
          261,
          262,
          263,
          264,
          265,
          266,
          267,
          268,
          269,
          270,
          271,
          272,
          273,
          274,
          275,
          276,
          277,
          278,
          279,
          280,
          281,
          282,
          283,
          284,
          285,
          286,
          287,
          288,
          289,
          290,
          291,
          292,
          293,
          294,
          295,
          296,
          297,
          298,
          299,
          300,
          301,
          302,
          303,
          304,
          305,
          306,
          307,
          308,
          309,
          310,
          311,
          312,
          313,
          314,
          315,
          316,
          317,
          318,
          319,
          320,
          321,
          322,
          323,
          324,
          325,
          326,
          327,
          328,
          329,
          330,
          331,
          332,
          333,
          334,
          335,
          336,
          337,
          338,
          339,
          340,
          341,
          342,
          343,
          344,
          345,
          346,
          347,
          348,
          349,
          350,
          351,
          352,
          353,
          354,
          355,
          356,
          357,
          358,
          359,
          360,
          361,
          362,
          363,
          364,
          365,
          366,
          367,
          368,
          369,
          370,
          371,
          372,
          373,
          374,
          375,
          376,
          377,
          378,
          379,
          380,
          381,
          382,
          383,
          384,
          385,
          386,
          387,
          388,
          389,
          390,
          391,
          392,
          393,
          394,
          395,
          396,
          397,
          398,
          399,
          400
         ],
         "xaxis": "x",
         "y": [
          null,
          9.5,
          9.399999999999977,
          9.300000000000068,
          9.200000000000045,
          9.099999999999909,
          9,
          8.900000000000091,
          8.799999999999955,
          8.700000000000045,
          8.599999999999909,
          8.5,
          8.400000000000091,
          8.299999999999955,
          8.200000000000045,
          8.099999999999909,
          8,
          7.900000000000091,
          7.7999999999999545,
          7.7000000000000455,
          7.599999999999909,
          7.5,
          7.400000000000091,
          7.2999999999999545,
          7.2000000000000455,
          7.099999999999909,
          7,
          6.900000000000091,
          6.7999999999999545,
          6.7000000000000455,
          6.6099999999999,
          6.519999999999982,
          6.430000000000064,
          6.339999999999918,
          6.25,
          6.160000000000082,
          6.069999999999936,
          5.980000000000018,
          5.8900000000001,
          5.7999999999999545,
          5.710000000000036,
          5.619999999999891,
          5.529999999999973,
          5.440000000000055,
          5.349999999999909,
          5.259999999999991,
          5.170000000000073,
          5.079999999999927,
          4.990000000000009,
          4.900000000000091,
          4.809999999999945,
          4.720000000000027,
          4.630000000000109,
          4.539999999999964,
          4.4500000000000455,
          4.3599999999999,
          4.269999999999982,
          4.180000000000064,
          4.099999999999909,
          4.019999999999982,
          3.9400000000000546,
          3.8600000000001273,
          3.7799999999999727,
          3.699999999999818,
          3.619999999999891,
          3.5399999999999636,
          3.4600000000000364,
          3.380000000000109,
          3.300000000000182,
          3.2200000000000273,
          3.1399999999998727,
          3.0599999999999454,
          2.980000000000018,
          2.900000000000091,
          2.8199999999999363,
          2.740000000000009,
          2.660000000000082,
          2.5799999999999272,
          2.5,
          2.4200000000000728,
          2.349999999999909,
          2.2799999999999727,
          2.2100000000000364,
          2.1400000000001,
          2.0699999999999363,
          2,
          1.9300000000000637,
          1.8599999999999,
          1.7899999999999636,
          1.7200000000000273,
          1.650000000000091,
          1.5799999999999272,
          1.509999999999991,
          1.4400000000000546,
          1.3699999999998909,
          1.300000000000182,
          1.2299999999997908,
          1.1600000000000819,
          1.0899999999999181,
          1.0300000000002,
          0.9699999999997999,
          0.9100000000000819,
          0.849999999999909,
          0.790000000000191,
          0.7300000000000182,
          0.6699999999998454,
          0.6099999999999,
          0.5499999999999545,
          0.4900000000000091,
          0.43000000000029104,
          0.3699999999996635,
          0.30999999999994543,
          0.25,
          0.19000000000005457,
          0.1300000000003365,
          0.06999999999970896,
          0.009999999999990905,
          -0.049999999999954525,
          -0.09999999999990905,
          -0.15000000000009095,
          -0.20000000000004547,
          -0.25,
          -0.2999999999999545,
          -0.34999999999990905,
          -0.40000000000009095,
          -0.4500000000000455,
          -0.5,
          -0.5499999999999545,
          -0.599999999999909,
          -0.650000000000091,
          -0.7000000000000455,
          -0.75,
          -0.7999999999999545,
          -0.849999999999909,
          -0.900000000000091,
          -0.9500000000000455,
          -0.9900000000000091,
          -1.0299999999999727,
          -1.069999999999709,
          -1.1100000000001273,
          -1.150000000000091,
          -1.1900000000000546,
          -1.2300000000000182,
          -1.2699999999999818,
          -1.3099999999999454,
          -1.349999999999909,
          -1.3899999999998727,
          -1.430000000000291,
          -1.4700000000000273,
          -1.509999999999991,
          -1.5499999999999545,
          -1.5899999999999181,
          -1.6300000000001091,
          -1.6700000000003001,
          -1.709999999999809,
          -1.740000000000009,
          -1.7700000000002092,
          -1.7999999999997272,
          -1.8299999999999272,
          -1.8599999999999,
          -1.8900000000001,
          -1.9200000000000728,
          -1.9500000000002728,
          -1.9799999999997908,
          -2.009999999999991,
          -2.040000000000191,
          -2.069999999999709,
          -2.099999999999909,
          -2.130000000000109,
          -2.160000000000082,
          -2.1900000000000546,
          -2.2200000000000273,
          -2.25,
          -2.2799999999999727,
          -2.3099999999999454,
          -2.3299999999999272,
          -2.3499999999996817,
          -2.3700000000001182,
          -2.3899999999998727,
          -2.4100000000003092,
          -2.430000000000291,
          -2.449999999999818,
          -2.4700000000000273,
          -2.490000000000009,
          -2.509999999999991,
          -2.5299999999999727,
          -2.550000000000182,
          -2.569999999999709,
          -2.5899999999996908,
          -2.6100000000001273,
          -2.6299999999998818,
          -2.6500000000003183,
          -2.6700000000000728,
          -2.6900000000000546,
          -2.7100000000000364,
          -2.730000000000018,
          -2.75,
          -2.759999999999991,
          -2.769999999999982,
          -2.7799999999999727,
          -2.7899999999999636,
          -2.800000000000182,
          -2.809999999999718,
          -2.819999999999709,
          -2.8300000000001546,
          -2.839999999999918,
          -2.849999999999909,
          -2.8599999999999,
          -2.869999999999891,
          -2.880000000000109,
          -2.8900000000001,
          -2.900000000000091,
          -2.910000000000082,
          -2.9199999999998454,
          -2.930000000000291,
          -2.940000000000282,
          -2.949999999999818,
          -2.9600000000000364,
          -2.9700000000000273,
          -2.980000000000018,
          -2.990000000000009,
          -3,
          -3,
          -3,
          -3,
          -3,
          -3,
          -3,
          -3,
          -3,
          -3,
          -3,
          -3,
          -3,
          -3,
          -3,
          -3,
          -3,
          -3,
          -3,
          -3,
          -3,
          -3,
          -3,
          -3,
          -3,
          -3,
          -3,
          -3,
          -3,
          -3,
          -3,
          -3,
          -3,
          -3,
          -3,
          -2.990000000000009,
          -2.980000000000018,
          -2.9700000000000273,
          -2.9600000000000364,
          -2.949999999999818,
          -2.940000000000282,
          -2.930000000000291,
          -2.9199999999998454,
          -2.910000000000082,
          -2.900000000000091,
          -2.8900000000001,
          -2.880000000000109,
          -2.869999999999891,
          -2.8599999999999,
          -2.849999999999909,
          -2.839999999999918,
          -2.8300000000001546,
          -2.819999999999709,
          -2.809999999999718,
          -2.800000000000182,
          -2.7899999999999636,
          -2.7799999999999727,
          -2.769999999999982,
          -2.759999999999991,
          -2.75,
          -2.740000000000009,
          -2.730000000000018,
          -2.7200000000000273,
          -2.7100000000000364,
          -2.699999999999818,
          -2.690000000000282,
          -2.680000000000291,
          -2.6699999999998454,
          -2.660000000000082,
          -2.650000000000091,
          -2.6400000000001,
          -2.630000000000109,
          -2.619999999999891,
          -2.6099999999999,
          -2.599999999999909,
          -2.589999999999918,
          -2.5800000000001546,
          -2.569999999999709,
          -2.559999999999718,
          -2.550000000000182,
          -2.5399999999999636,
          -2.5299999999999727,
          -2.519999999999982,
          -2.509999999999991,
          -2.5,
          -2.490000000000009,
          -2.480000000000018,
          -2.4700000000000273,
          -2.4600000000000364,
          -2.449999999999818,
          -2.440000000000282,
          -2.430000000000291,
          -2.4099999999998545,
          -2.3900000000001,
          -2.369999999999891,
          -2.349999999999909,
          -2.3299999999999272,
          -2.3099999999999454,
          -2.28999999999985,
          -2.2700000000000955,
          -2.25,
          -2.2299999999999045,
          -2.2100000000000364,
          -2.1900000000001683,
          -2.1699999999998454,
          -2.1499999999999773,
          -2.1299999999999955,
          -2.1100000000000136,
          -2.090000000000032,
          -2.0700000000001637,
          -2.049999999999841,
          -2.0299999999999727,
          -2.009999999999991,
          -1.990000000000009,
          -1.9700000000000273,
          -1.9500000000001592,
          -1.9299999999998363,
          -1.9099999999999682,
          -1.8899999999999864,
          -1.8700000000000045,
          -1.8500000000000227,
          -1.8300000000001546,
          -1.8099999999998317,
          -1.7899999999999636,
          -1.7700000000000955,
          -1.75,
          -1.7299999999999045,
          -1.7100000000000364,
          -1.6900000000001683,
          -1.6699999999998454,
          -1.6499999999999773,
          -1.6299999999999955,
          -1.6100000000000136,
          -1.5900000000000318,
          -1.5700000000001637,
          -1.5499999999998408,
          -1.5299999999999727,
          -1.509999999999991,
          -1.5,
          -1.4800000000000182,
          -1.470000000000141,
          -1.4500000000000455,
          -1.4400000000001683,
          -1.4199999999998454,
          -1.4099999999999682,
          -1.3899999999999864,
          -1.3799999999999955,
          -1.3600000000000136,
          -1.3500000000000227,
          -1.3400000000000318,
          -1.3200000000001637,
          -1.3099999999998317,
          -1.2999999999999545,
          -1.2799999999999727,
          -1.2699999999998681,
          -1.259999999999991,
          -1.25,
          -1.2300000000000182,
          -1.220000000000141,
          -1.2100000000000364,
          -1.2000000000001592,
          -1.1799999999998363,
          -1.169999999999959,
          -1.1599999999998545,
          -1.1499999999999773,
          -1.1399999999999864,
          -1.1299999999999955,
          -1.1100000000000136,
          -1.1000000000000227,
          -1.0900000000001455,
          -1.080000000000041,
          -1.0700000000001637,
          -1.0599999999998317,
          -1.0499999999999545,
          -1.03999999999985,
          -1.0299999999999727,
          -1.0199999999999818,
          -1.0100000000001046,
          -1,
          -0.9900000000000091
         ],
         "yaxis": "y"
        }
       ],
       "layout": {
        "legend": {
         "title": {
          "text": "variable"
         },
         "tracegroupgap": 0
        },
        "margin": {
         "t": 60
        },
        "template": {
         "data": {
          "bar": [
           {
            "error_x": {
             "color": "#2a3f5f"
            },
            "error_y": {
             "color": "#2a3f5f"
            },
            "marker": {
             "line": {
              "color": "#E5ECF6",
              "width": 0.5
             }
            },
            "type": "bar"
           }
          ],
          "barpolar": [
           {
            "marker": {
             "line": {
              "color": "#E5ECF6",
              "width": 0.5
             }
            },
            "type": "barpolar"
           }
          ],
          "carpet": [
           {
            "aaxis": {
             "endlinecolor": "#2a3f5f",
             "gridcolor": "white",
             "linecolor": "white",
             "minorgridcolor": "white",
             "startlinecolor": "#2a3f5f"
            },
            "baxis": {
             "endlinecolor": "#2a3f5f",
             "gridcolor": "white",
             "linecolor": "white",
             "minorgridcolor": "white",
             "startlinecolor": "#2a3f5f"
            },
            "type": "carpet"
           }
          ],
          "choropleth": [
           {
            "colorbar": {
             "outlinewidth": 0,
             "ticks": ""
            },
            "type": "choropleth"
           }
          ],
          "contour": [
           {
            "colorbar": {
             "outlinewidth": 0,
             "ticks": ""
            },
            "colorscale": [
             [
              0,
              "#0d0887"
             ],
             [
              0.1111111111111111,
              "#46039f"
             ],
             [
              0.2222222222222222,
              "#7201a8"
             ],
             [
              0.3333333333333333,
              "#9c179e"
             ],
             [
              0.4444444444444444,
              "#bd3786"
             ],
             [
              0.5555555555555556,
              "#d8576b"
             ],
             [
              0.6666666666666666,
              "#ed7953"
             ],
             [
              0.7777777777777778,
              "#fb9f3a"
             ],
             [
              0.8888888888888888,
              "#fdca26"
             ],
             [
              1,
              "#f0f921"
             ]
            ],
            "type": "contour"
           }
          ],
          "contourcarpet": [
           {
            "colorbar": {
             "outlinewidth": 0,
             "ticks": ""
            },
            "type": "contourcarpet"
           }
          ],
          "heatmap": [
           {
            "colorbar": {
             "outlinewidth": 0,
             "ticks": ""
            },
            "colorscale": [
             [
              0,
              "#0d0887"
             ],
             [
              0.1111111111111111,
              "#46039f"
             ],
             [
              0.2222222222222222,
              "#7201a8"
             ],
             [
              0.3333333333333333,
              "#9c179e"
             ],
             [
              0.4444444444444444,
              "#bd3786"
             ],
             [
              0.5555555555555556,
              "#d8576b"
             ],
             [
              0.6666666666666666,
              "#ed7953"
             ],
             [
              0.7777777777777778,
              "#fb9f3a"
             ],
             [
              0.8888888888888888,
              "#fdca26"
             ],
             [
              1,
              "#f0f921"
             ]
            ],
            "type": "heatmap"
           }
          ],
          "heatmapgl": [
           {
            "colorbar": {
             "outlinewidth": 0,
             "ticks": ""
            },
            "colorscale": [
             [
              0,
              "#0d0887"
             ],
             [
              0.1111111111111111,
              "#46039f"
             ],
             [
              0.2222222222222222,
              "#7201a8"
             ],
             [
              0.3333333333333333,
              "#9c179e"
             ],
             [
              0.4444444444444444,
              "#bd3786"
             ],
             [
              0.5555555555555556,
              "#d8576b"
             ],
             [
              0.6666666666666666,
              "#ed7953"
             ],
             [
              0.7777777777777778,
              "#fb9f3a"
             ],
             [
              0.8888888888888888,
              "#fdca26"
             ],
             [
              1,
              "#f0f921"
             ]
            ],
            "type": "heatmapgl"
           }
          ],
          "histogram": [
           {
            "marker": {
             "colorbar": {
              "outlinewidth": 0,
              "ticks": ""
             }
            },
            "type": "histogram"
           }
          ],
          "histogram2d": [
           {
            "colorbar": {
             "outlinewidth": 0,
             "ticks": ""
            },
            "colorscale": [
             [
              0,
              "#0d0887"
             ],
             [
              0.1111111111111111,
              "#46039f"
             ],
             [
              0.2222222222222222,
              "#7201a8"
             ],
             [
              0.3333333333333333,
              "#9c179e"
             ],
             [
              0.4444444444444444,
              "#bd3786"
             ],
             [
              0.5555555555555556,
              "#d8576b"
             ],
             [
              0.6666666666666666,
              "#ed7953"
             ],
             [
              0.7777777777777778,
              "#fb9f3a"
             ],
             [
              0.8888888888888888,
              "#fdca26"
             ],
             [
              1,
              "#f0f921"
             ]
            ],
            "type": "histogram2d"
           }
          ],
          "histogram2dcontour": [
           {
            "colorbar": {
             "outlinewidth": 0,
             "ticks": ""
            },
            "colorscale": [
             [
              0,
              "#0d0887"
             ],
             [
              0.1111111111111111,
              "#46039f"
             ],
             [
              0.2222222222222222,
              "#7201a8"
             ],
             [
              0.3333333333333333,
              "#9c179e"
             ],
             [
              0.4444444444444444,
              "#bd3786"
             ],
             [
              0.5555555555555556,
              "#d8576b"
             ],
             [
              0.6666666666666666,
              "#ed7953"
             ],
             [
              0.7777777777777778,
              "#fb9f3a"
             ],
             [
              0.8888888888888888,
              "#fdca26"
             ],
             [
              1,
              "#f0f921"
             ]
            ],
            "type": "histogram2dcontour"
           }
          ],
          "mesh3d": [
           {
            "colorbar": {
             "outlinewidth": 0,
             "ticks": ""
            },
            "type": "mesh3d"
           }
          ],
          "parcoords": [
           {
            "line": {
             "colorbar": {
              "outlinewidth": 0,
              "ticks": ""
             }
            },
            "type": "parcoords"
           }
          ],
          "pie": [
           {
            "automargin": true,
            "type": "pie"
           }
          ],
          "scatter": [
           {
            "marker": {
             "colorbar": {
              "outlinewidth": 0,
              "ticks": ""
             }
            },
            "type": "scatter"
           }
          ],
          "scatter3d": [
           {
            "line": {
             "colorbar": {
              "outlinewidth": 0,
              "ticks": ""
             }
            },
            "marker": {
             "colorbar": {
              "outlinewidth": 0,
              "ticks": ""
             }
            },
            "type": "scatter3d"
           }
          ],
          "scattercarpet": [
           {
            "marker": {
             "colorbar": {
              "outlinewidth": 0,
              "ticks": ""
             }
            },
            "type": "scattercarpet"
           }
          ],
          "scattergeo": [
           {
            "marker": {
             "colorbar": {
              "outlinewidth": 0,
              "ticks": ""
             }
            },
            "type": "scattergeo"
           }
          ],
          "scattergl": [
           {
            "marker": {
             "colorbar": {
              "outlinewidth": 0,
              "ticks": ""
             }
            },
            "type": "scattergl"
           }
          ],
          "scattermapbox": [
           {
            "marker": {
             "colorbar": {
              "outlinewidth": 0,
              "ticks": ""
             }
            },
            "type": "scattermapbox"
           }
          ],
          "scatterpolar": [
           {
            "marker": {
             "colorbar": {
              "outlinewidth": 0,
              "ticks": ""
             }
            },
            "type": "scatterpolar"
           }
          ],
          "scatterpolargl": [
           {
            "marker": {
             "colorbar": {
              "outlinewidth": 0,
              "ticks": ""
             }
            },
            "type": "scatterpolargl"
           }
          ],
          "scatterternary": [
           {
            "marker": {
             "colorbar": {
              "outlinewidth": 0,
              "ticks": ""
             }
            },
            "type": "scatterternary"
           }
          ],
          "surface": [
           {
            "colorbar": {
             "outlinewidth": 0,
             "ticks": ""
            },
            "colorscale": [
             [
              0,
              "#0d0887"
             ],
             [
              0.1111111111111111,
              "#46039f"
             ],
             [
              0.2222222222222222,
              "#7201a8"
             ],
             [
              0.3333333333333333,
              "#9c179e"
             ],
             [
              0.4444444444444444,
              "#bd3786"
             ],
             [
              0.5555555555555556,
              "#d8576b"
             ],
             [
              0.6666666666666666,
              "#ed7953"
             ],
             [
              0.7777777777777778,
              "#fb9f3a"
             ],
             [
              0.8888888888888888,
              "#fdca26"
             ],
             [
              1,
              "#f0f921"
             ]
            ],
            "type": "surface"
           }
          ],
          "table": [
           {
            "cells": {
             "fill": {
              "color": "#EBF0F8"
             },
             "line": {
              "color": "white"
             }
            },
            "header": {
             "fill": {
              "color": "#C8D4E3"
             },
             "line": {
              "color": "white"
             }
            },
            "type": "table"
           }
          ]
         },
         "layout": {
          "annotationdefaults": {
           "arrowcolor": "#2a3f5f",
           "arrowhead": 0,
           "arrowwidth": 1
          },
          "coloraxis": {
           "colorbar": {
            "outlinewidth": 0,
            "ticks": ""
           }
          },
          "colorscale": {
           "diverging": [
            [
             0,
             "#8e0152"
            ],
            [
             0.1,
             "#c51b7d"
            ],
            [
             0.2,
             "#de77ae"
            ],
            [
             0.3,
             "#f1b6da"
            ],
            [
             0.4,
             "#fde0ef"
            ],
            [
             0.5,
             "#f7f7f7"
            ],
            [
             0.6,
             "#e6f5d0"
            ],
            [
             0.7,
             "#b8e186"
            ],
            [
             0.8,
             "#7fbc41"
            ],
            [
             0.9,
             "#4d9221"
            ],
            [
             1,
             "#276419"
            ]
           ],
           "sequential": [
            [
             0,
             "#0d0887"
            ],
            [
             0.1111111111111111,
             "#46039f"
            ],
            [
             0.2222222222222222,
             "#7201a8"
            ],
            [
             0.3333333333333333,
             "#9c179e"
            ],
            [
             0.4444444444444444,
             "#bd3786"
            ],
            [
             0.5555555555555556,
             "#d8576b"
            ],
            [
             0.6666666666666666,
             "#ed7953"
            ],
            [
             0.7777777777777778,
             "#fb9f3a"
            ],
            [
             0.8888888888888888,
             "#fdca26"
            ],
            [
             1,
             "#f0f921"
            ]
           ],
           "sequentialminus": [
            [
             0,
             "#0d0887"
            ],
            [
             0.1111111111111111,
             "#46039f"
            ],
            [
             0.2222222222222222,
             "#7201a8"
            ],
            [
             0.3333333333333333,
             "#9c179e"
            ],
            [
             0.4444444444444444,
             "#bd3786"
            ],
            [
             0.5555555555555556,
             "#d8576b"
            ],
            [
             0.6666666666666666,
             "#ed7953"
            ],
            [
             0.7777777777777778,
             "#fb9f3a"
            ],
            [
             0.8888888888888888,
             "#fdca26"
            ],
            [
             1,
             "#f0f921"
            ]
           ]
          },
          "colorway": [
           "#636efa",
           "#EF553B",
           "#00cc96",
           "#ab63fa",
           "#FFA15A",
           "#19d3f3",
           "#FF6692",
           "#B6E880",
           "#FF97FF",
           "#FECB52"
          ],
          "font": {
           "color": "#2a3f5f"
          },
          "geo": {
           "bgcolor": "white",
           "lakecolor": "white",
           "landcolor": "#E5ECF6",
           "showlakes": true,
           "showland": true,
           "subunitcolor": "white"
          },
          "hoverlabel": {
           "align": "left"
          },
          "hovermode": "closest",
          "mapbox": {
           "style": "light"
          },
          "paper_bgcolor": "white",
          "plot_bgcolor": "#E5ECF6",
          "polar": {
           "angularaxis": {
            "gridcolor": "white",
            "linecolor": "white",
            "ticks": ""
           },
           "bgcolor": "#E5ECF6",
           "radialaxis": {
            "gridcolor": "white",
            "linecolor": "white",
            "ticks": ""
           }
          },
          "scene": {
           "xaxis": {
            "backgroundcolor": "#E5ECF6",
            "gridcolor": "white",
            "gridwidth": 2,
            "linecolor": "white",
            "showbackground": true,
            "ticks": "",
            "zerolinecolor": "white"
           },
           "yaxis": {
            "backgroundcolor": "#E5ECF6",
            "gridcolor": "white",
            "gridwidth": 2,
            "linecolor": "white",
            "showbackground": true,
            "ticks": "",
            "zerolinecolor": "white"
           },
           "zaxis": {
            "backgroundcolor": "#E5ECF6",
            "gridcolor": "white",
            "gridwidth": 2,
            "linecolor": "white",
            "showbackground": true,
            "ticks": "",
            "zerolinecolor": "white"
           }
          },
          "shapedefaults": {
           "line": {
            "color": "#2a3f5f"
           }
          },
          "ternary": {
           "aaxis": {
            "gridcolor": "white",
            "linecolor": "white",
            "ticks": ""
           },
           "baxis": {
            "gridcolor": "white",
            "linecolor": "white",
            "ticks": ""
           },
           "bgcolor": "#E5ECF6",
           "caxis": {
            "gridcolor": "white",
            "linecolor": "white",
            "ticks": ""
           }
          },
          "title": {
           "x": 0.05
          },
          "xaxis": {
           "automargin": true,
           "gridcolor": "white",
           "linecolor": "white",
           "ticks": "",
           "title": {
            "standoff": 15
           },
           "zerolinecolor": "white",
           "zerolinewidth": 2
          },
          "yaxis": {
           "automargin": true,
           "gridcolor": "white",
           "linecolor": "white",
           "ticks": "",
           "title": {
            "standoff": 15
           },
           "zerolinecolor": "white",
           "zerolinewidth": 2
          }
         }
        },
        "xaxis": {
         "anchor": "y",
         "domain": [
          0,
          1
         ],
         "title": {
          "text": "timestep"
         }
        },
        "yaxis": {
         "anchor": "x",
         "domain": [
          0,
          1
         ],
         "title": {
          "text": "value"
         }
        }
       }
      },
      "text/html": [
       "<div>                            <div id=\"34700968-8bd5-4903-abb6-588bd4e1a890\" class=\"plotly-graph-div\" style=\"height:525px; width:100%;\"></div>            <script type=\"text/javascript\">                require([\"plotly\"], function(Plotly) {                    window.PLOTLYENV=window.PLOTLYENV || {};                                    if (document.getElementById(\"34700968-8bd5-4903-abb6-588bd4e1a890\")) {                    Plotly.newPlot(                        \"34700968-8bd5-4903-abb6-588bd4e1a890\",                        [{\"hovertemplate\": \"variable=food_diff<br>timestep=%{x}<br>value=%{y}<extra></extra>\", \"legendgroup\": \"food_diff\", \"line\": {\"color\": \"#636efa\", \"dash\": \"solid\"}, \"mode\": \"lines\", \"name\": \"food_diff\", \"orientation\": \"v\", \"showlegend\": true, \"type\": \"scatter\", \"x\": [0, 1, 2, 3, 4, 5, 6, 7, 8, 9, 10, 11, 12, 13, 14, 15, 16, 17, 18, 19, 20, 21, 22, 23, 24, 25, 26, 27, 28, 29, 30, 31, 32, 33, 34, 35, 36, 37, 38, 39, 40, 41, 42, 43, 44, 45, 46, 47, 48, 49, 50, 51, 52, 53, 54, 55, 56, 57, 58, 59, 60, 61, 62, 63, 64, 65, 66, 67, 68, 69, 70, 71, 72, 73, 74, 75, 76, 77, 78, 79, 80, 81, 82, 83, 84, 85, 86, 87, 88, 89, 90, 91, 92, 93, 94, 95, 96, 97, 98, 99, 100, 101, 102, 103, 104, 105, 106, 107, 108, 109, 110, 111, 112, 113, 114, 115, 116, 117, 118, 119, 120, 121, 122, 123, 124, 125, 126, 127, 128, 129, 130, 131, 132, 133, 134, 135, 136, 137, 138, 139, 140, 141, 142, 143, 144, 145, 146, 147, 148, 149, 150, 151, 152, 153, 154, 155, 156, 157, 158, 159, 160, 161, 162, 163, 164, 165, 166, 167, 168, 169, 170, 171, 172, 173, 174, 175, 176, 177, 178, 179, 180, 181, 182, 183, 184, 185, 186, 187, 188, 189, 190, 191, 192, 193, 194, 195, 196, 197, 198, 199, 200, 201, 202, 203, 204, 205, 206, 207, 208, 209, 210, 211, 212, 213, 214, 215, 216, 217, 218, 219, 220, 221, 222, 223, 224, 225, 226, 227, 228, 229, 230, 231, 232, 233, 234, 235, 236, 237, 238, 239, 240, 241, 242, 243, 244, 245, 246, 247, 248, 249, 250, 251, 252, 253, 254, 255, 256, 257, 258, 259, 260, 261, 262, 263, 264, 265, 266, 267, 268, 269, 270, 271, 272, 273, 274, 275, 276, 277, 278, 279, 280, 281, 282, 283, 284, 285, 286, 287, 288, 289, 290, 291, 292, 293, 294, 295, 296, 297, 298, 299, 300, 301, 302, 303, 304, 305, 306, 307, 308, 309, 310, 311, 312, 313, 314, 315, 316, 317, 318, 319, 320, 321, 322, 323, 324, 325, 326, 327, 328, 329, 330, 331, 332, 333, 334, 335, 336, 337, 338, 339, 340, 341, 342, 343, 344, 345, 346, 347, 348, 349, 350, 351, 352, 353, 354, 355, 356, 357, 358, 359, 360, 361, 362, 363, 364, 365, 366, 367, 368, 369, 370, 371, 372, 373, 374, 375, 376, 377, 378, 379, 380, 381, 382, 383, 384, 385, 386, 387, 388, 389, 390, 391, 392, 393, 394, 395, 396, 397, 398, 399, 400], \"xaxis\": \"x\", \"y\": [null, 9.5, 9.399999999999977, 9.300000000000068, 9.200000000000045, 9.099999999999909, 9.0, 8.900000000000091, 8.799999999999955, 8.700000000000045, 8.599999999999909, 8.5, 8.400000000000091, 8.299999999999955, 8.200000000000045, 8.099999999999909, 8.0, 7.900000000000091, 7.7999999999999545, 7.7000000000000455, 7.599999999999909, 7.5, 7.400000000000091, 7.2999999999999545, 7.2000000000000455, 7.099999999999909, 7.0, 6.900000000000091, 6.7999999999999545, 6.7000000000000455, 6.6099999999999, 6.519999999999982, 6.430000000000064, 6.339999999999918, 6.25, 6.160000000000082, 6.069999999999936, 5.980000000000018, 5.8900000000001, 5.7999999999999545, 5.710000000000036, 5.619999999999891, 5.529999999999973, 5.440000000000055, 5.349999999999909, 5.259999999999991, 5.170000000000073, 5.079999999999927, 4.990000000000009, 4.900000000000091, 4.809999999999945, 4.720000000000027, 4.630000000000109, 4.539999999999964, 4.4500000000000455, 4.3599999999999, 4.269999999999982, 4.180000000000064, 4.099999999999909, 4.019999999999982, 3.9400000000000546, 3.8600000000001273, 3.7799999999999727, 3.699999999999818, 3.619999999999891, 3.5399999999999636, 3.4600000000000364, 3.380000000000109, 3.300000000000182, 3.2200000000000273, 3.1399999999998727, 3.0599999999999454, 2.980000000000018, 2.900000000000091, 2.8199999999999363, 2.740000000000009, 2.660000000000082, 2.5799999999999272, 2.5, 2.4200000000000728, 2.349999999999909, 2.2799999999999727, 2.2100000000000364, 2.1400000000001, 2.0699999999999363, 2.0, 1.9300000000000637, 1.8599999999999, 1.7899999999999636, 1.7200000000000273, 1.650000000000091, 1.5799999999999272, 1.509999999999991, 1.4400000000000546, 1.3699999999998909, 1.300000000000182, 1.2299999999997908, 1.1600000000000819, 1.0899999999999181, 1.0300000000002, 0.9699999999997999, 0.9100000000000819, 0.849999999999909, 0.790000000000191, 0.7300000000000182, 0.6699999999998454, 0.6099999999999, 0.5499999999999545, 0.4900000000000091, 0.43000000000029104, 0.3699999999996635, 0.30999999999994543, 0.25, 0.19000000000005457, 0.1300000000003365, 0.06999999999970896, 0.009999999999990905, -0.049999999999954525, -0.09999999999990905, -0.15000000000009095, -0.20000000000004547, -0.25, -0.2999999999999545, -0.34999999999990905, -0.40000000000009095, -0.4500000000000455, -0.5, -0.5499999999999545, -0.599999999999909, -0.650000000000091, -0.7000000000000455, -0.75, -0.7999999999999545, -0.849999999999909, -0.900000000000091, -0.9500000000000455, -0.9900000000000091, -1.0299999999999727, -1.069999999999709, -1.1100000000001273, -1.150000000000091, -1.1900000000000546, -1.2300000000000182, -1.2699999999999818, -1.3099999999999454, -1.349999999999909, -1.3899999999998727, -1.430000000000291, -1.4700000000000273, -1.509999999999991, -1.5499999999999545, -1.5899999999999181, -1.6300000000001091, -1.6700000000003001, -1.709999999999809, -1.740000000000009, -1.7700000000002092, -1.7999999999997272, -1.8299999999999272, -1.8599999999999, -1.8900000000001, -1.9200000000000728, -1.9500000000002728, -1.9799999999997908, -2.009999999999991, -2.040000000000191, -2.069999999999709, -2.099999999999909, -2.130000000000109, -2.160000000000082, -2.1900000000000546, -2.2200000000000273, -2.25, -2.2799999999999727, -2.3099999999999454, -2.3299999999999272, -2.3499999999996817, -2.3700000000001182, -2.3899999999998727, -2.4100000000003092, -2.430000000000291, -2.449999999999818, -2.4700000000000273, -2.490000000000009, -2.509999999999991, -2.5299999999999727, -2.550000000000182, -2.569999999999709, -2.5899999999996908, -2.6100000000001273, -2.6299999999998818, -2.6500000000003183, -2.6700000000000728, -2.6900000000000546, -2.7100000000000364, -2.730000000000018, -2.75, -2.759999999999991, -2.769999999999982, -2.7799999999999727, -2.7899999999999636, -2.800000000000182, -2.809999999999718, -2.819999999999709, -2.8300000000001546, -2.839999999999918, -2.849999999999909, -2.8599999999999, -2.869999999999891, -2.880000000000109, -2.8900000000001, -2.900000000000091, -2.910000000000082, -2.9199999999998454, -2.930000000000291, -2.940000000000282, -2.949999999999818, -2.9600000000000364, -2.9700000000000273, -2.980000000000018, -2.990000000000009, -3.0, -3.0, -3.0, -3.0, -3.0, -3.0, -3.0, -3.0, -3.0, -3.0, -3.0, -3.0, -3.0, -3.0, -3.0, -3.0, -3.0, -3.0, -3.0, -3.0, -3.0, -3.0, -3.0, -3.0, -3.0, -3.0, -3.0, -3.0, -3.0, -3.0, -3.0, -3.0, -3.0, -3.0, -3.0, -2.990000000000009, -2.980000000000018, -2.9700000000000273, -2.9600000000000364, -2.949999999999818, -2.940000000000282, -2.930000000000291, -2.9199999999998454, -2.910000000000082, -2.900000000000091, -2.8900000000001, -2.880000000000109, -2.869999999999891, -2.8599999999999, -2.849999999999909, -2.839999999999918, -2.8300000000001546, -2.819999999999709, -2.809999999999718, -2.800000000000182, -2.7899999999999636, -2.7799999999999727, -2.769999999999982, -2.759999999999991, -2.75, -2.740000000000009, -2.730000000000018, -2.7200000000000273, -2.7100000000000364, -2.699999999999818, -2.690000000000282, -2.680000000000291, -2.6699999999998454, -2.660000000000082, -2.650000000000091, -2.6400000000001, -2.630000000000109, -2.619999999999891, -2.6099999999999, -2.599999999999909, -2.589999999999918, -2.5800000000001546, -2.569999999999709, -2.559999999999718, -2.550000000000182, -2.5399999999999636, -2.5299999999999727, -2.519999999999982, -2.509999999999991, -2.5, -2.490000000000009, -2.480000000000018, -2.4700000000000273, -2.4600000000000364, -2.449999999999818, -2.440000000000282, -2.430000000000291, -2.4099999999998545, -2.3900000000001, -2.369999999999891, -2.349999999999909, -2.3299999999999272, -2.3099999999999454, -2.28999999999985, -2.2700000000000955, -2.25, -2.2299999999999045, -2.2100000000000364, -2.1900000000001683, -2.1699999999998454, -2.1499999999999773, -2.1299999999999955, -2.1100000000000136, -2.090000000000032, -2.0700000000001637, -2.049999999999841, -2.0299999999999727, -2.009999999999991, -1.990000000000009, -1.9700000000000273, -1.9500000000001592, -1.9299999999998363, -1.9099999999999682, -1.8899999999999864, -1.8700000000000045, -1.8500000000000227, -1.8300000000001546, -1.8099999999998317, -1.7899999999999636, -1.7700000000000955, -1.75, -1.7299999999999045, -1.7100000000000364, -1.6900000000001683, -1.6699999999998454, -1.6499999999999773, -1.6299999999999955, -1.6100000000000136, -1.5900000000000318, -1.5700000000001637, -1.5499999999998408, -1.5299999999999727, -1.509999999999991, -1.5, -1.4800000000000182, -1.470000000000141, -1.4500000000000455, -1.4400000000001683, -1.4199999999998454, -1.4099999999999682, -1.3899999999999864, -1.3799999999999955, -1.3600000000000136, -1.3500000000000227, -1.3400000000000318, -1.3200000000001637, -1.3099999999998317, -1.2999999999999545, -1.2799999999999727, -1.2699999999998681, -1.259999999999991, -1.25, -1.2300000000000182, -1.220000000000141, -1.2100000000000364, -1.2000000000001592, -1.1799999999998363, -1.169999999999959, -1.1599999999998545, -1.1499999999999773, -1.1399999999999864, -1.1299999999999955, -1.1100000000000136, -1.1000000000000227, -1.0900000000001455, -1.080000000000041, -1.0700000000001637, -1.0599999999998317, -1.0499999999999545, -1.03999999999985, -1.0299999999999727, -1.0199999999999818, -1.0100000000001046, -1.0, -0.9900000000000091], \"yaxis\": \"y\"}],                        {\"legend\": {\"title\": {\"text\": \"variable\"}, \"tracegroupgap\": 0}, \"margin\": {\"t\": 60}, \"template\": {\"data\": {\"bar\": [{\"error_x\": {\"color\": \"#2a3f5f\"}, \"error_y\": {\"color\": \"#2a3f5f\"}, \"marker\": {\"line\": {\"color\": \"#E5ECF6\", \"width\": 0.5}}, \"type\": \"bar\"}], \"barpolar\": [{\"marker\": {\"line\": {\"color\": \"#E5ECF6\", \"width\": 0.5}}, \"type\": \"barpolar\"}], \"carpet\": [{\"aaxis\": {\"endlinecolor\": \"#2a3f5f\", \"gridcolor\": \"white\", \"linecolor\": \"white\", \"minorgridcolor\": \"white\", \"startlinecolor\": \"#2a3f5f\"}, \"baxis\": {\"endlinecolor\": \"#2a3f5f\", \"gridcolor\": \"white\", \"linecolor\": \"white\", \"minorgridcolor\": \"white\", \"startlinecolor\": \"#2a3f5f\"}, \"type\": \"carpet\"}], \"choropleth\": [{\"colorbar\": {\"outlinewidth\": 0, \"ticks\": \"\"}, \"type\": \"choropleth\"}], \"contour\": [{\"colorbar\": {\"outlinewidth\": 0, \"ticks\": \"\"}, \"colorscale\": [[0.0, \"#0d0887\"], [0.1111111111111111, \"#46039f\"], [0.2222222222222222, \"#7201a8\"], [0.3333333333333333, \"#9c179e\"], [0.4444444444444444, \"#bd3786\"], [0.5555555555555556, \"#d8576b\"], [0.6666666666666666, \"#ed7953\"], [0.7777777777777778, \"#fb9f3a\"], [0.8888888888888888, \"#fdca26\"], [1.0, \"#f0f921\"]], \"type\": \"contour\"}], \"contourcarpet\": [{\"colorbar\": {\"outlinewidth\": 0, \"ticks\": \"\"}, \"type\": \"contourcarpet\"}], \"heatmap\": [{\"colorbar\": {\"outlinewidth\": 0, \"ticks\": \"\"}, \"colorscale\": [[0.0, \"#0d0887\"], [0.1111111111111111, \"#46039f\"], [0.2222222222222222, \"#7201a8\"], [0.3333333333333333, \"#9c179e\"], [0.4444444444444444, \"#bd3786\"], [0.5555555555555556, \"#d8576b\"], [0.6666666666666666, \"#ed7953\"], [0.7777777777777778, \"#fb9f3a\"], [0.8888888888888888, \"#fdca26\"], [1.0, \"#f0f921\"]], \"type\": \"heatmap\"}], \"heatmapgl\": [{\"colorbar\": {\"outlinewidth\": 0, \"ticks\": \"\"}, \"colorscale\": [[0.0, \"#0d0887\"], [0.1111111111111111, \"#46039f\"], [0.2222222222222222, \"#7201a8\"], [0.3333333333333333, \"#9c179e\"], [0.4444444444444444, \"#bd3786\"], [0.5555555555555556, \"#d8576b\"], [0.6666666666666666, \"#ed7953\"], [0.7777777777777778, \"#fb9f3a\"], [0.8888888888888888, \"#fdca26\"], [1.0, \"#f0f921\"]], \"type\": \"heatmapgl\"}], \"histogram\": [{\"marker\": {\"colorbar\": {\"outlinewidth\": 0, \"ticks\": \"\"}}, \"type\": \"histogram\"}], \"histogram2d\": [{\"colorbar\": {\"outlinewidth\": 0, \"ticks\": \"\"}, \"colorscale\": [[0.0, \"#0d0887\"], [0.1111111111111111, \"#46039f\"], [0.2222222222222222, \"#7201a8\"], [0.3333333333333333, \"#9c179e\"], [0.4444444444444444, \"#bd3786\"], [0.5555555555555556, \"#d8576b\"], [0.6666666666666666, \"#ed7953\"], [0.7777777777777778, \"#fb9f3a\"], [0.8888888888888888, \"#fdca26\"], [1.0, \"#f0f921\"]], \"type\": \"histogram2d\"}], \"histogram2dcontour\": [{\"colorbar\": {\"outlinewidth\": 0, \"ticks\": \"\"}, \"colorscale\": [[0.0, \"#0d0887\"], [0.1111111111111111, \"#46039f\"], [0.2222222222222222, \"#7201a8\"], [0.3333333333333333, \"#9c179e\"], [0.4444444444444444, \"#bd3786\"], [0.5555555555555556, \"#d8576b\"], [0.6666666666666666, \"#ed7953\"], [0.7777777777777778, \"#fb9f3a\"], [0.8888888888888888, \"#fdca26\"], [1.0, \"#f0f921\"]], \"type\": \"histogram2dcontour\"}], \"mesh3d\": [{\"colorbar\": {\"outlinewidth\": 0, \"ticks\": \"\"}, \"type\": \"mesh3d\"}], \"parcoords\": [{\"line\": {\"colorbar\": {\"outlinewidth\": 0, \"ticks\": \"\"}}, \"type\": \"parcoords\"}], \"pie\": [{\"automargin\": true, \"type\": \"pie\"}], \"scatter\": [{\"marker\": {\"colorbar\": {\"outlinewidth\": 0, \"ticks\": \"\"}}, \"type\": \"scatter\"}], \"scatter3d\": [{\"line\": {\"colorbar\": {\"outlinewidth\": 0, \"ticks\": \"\"}}, \"marker\": {\"colorbar\": {\"outlinewidth\": 0, \"ticks\": \"\"}}, \"type\": \"scatter3d\"}], \"scattercarpet\": [{\"marker\": {\"colorbar\": {\"outlinewidth\": 0, \"ticks\": \"\"}}, \"type\": \"scattercarpet\"}], \"scattergeo\": [{\"marker\": {\"colorbar\": {\"outlinewidth\": 0, \"ticks\": \"\"}}, \"type\": \"scattergeo\"}], \"scattergl\": [{\"marker\": {\"colorbar\": {\"outlinewidth\": 0, \"ticks\": \"\"}}, \"type\": \"scattergl\"}], \"scattermapbox\": [{\"marker\": {\"colorbar\": {\"outlinewidth\": 0, \"ticks\": \"\"}}, \"type\": \"scattermapbox\"}], \"scatterpolar\": [{\"marker\": {\"colorbar\": {\"outlinewidth\": 0, \"ticks\": \"\"}}, \"type\": \"scatterpolar\"}], \"scatterpolargl\": [{\"marker\": {\"colorbar\": {\"outlinewidth\": 0, \"ticks\": \"\"}}, \"type\": \"scatterpolargl\"}], \"scatterternary\": [{\"marker\": {\"colorbar\": {\"outlinewidth\": 0, \"ticks\": \"\"}}, \"type\": \"scatterternary\"}], \"surface\": [{\"colorbar\": {\"outlinewidth\": 0, \"ticks\": \"\"}, \"colorscale\": [[0.0, \"#0d0887\"], [0.1111111111111111, \"#46039f\"], [0.2222222222222222, \"#7201a8\"], [0.3333333333333333, \"#9c179e\"], [0.4444444444444444, \"#bd3786\"], [0.5555555555555556, \"#d8576b\"], [0.6666666666666666, \"#ed7953\"], [0.7777777777777778, \"#fb9f3a\"], [0.8888888888888888, \"#fdca26\"], [1.0, \"#f0f921\"]], \"type\": \"surface\"}], \"table\": [{\"cells\": {\"fill\": {\"color\": \"#EBF0F8\"}, \"line\": {\"color\": \"white\"}}, \"header\": {\"fill\": {\"color\": \"#C8D4E3\"}, \"line\": {\"color\": \"white\"}}, \"type\": \"table\"}]}, \"layout\": {\"annotationdefaults\": {\"arrowcolor\": \"#2a3f5f\", \"arrowhead\": 0, \"arrowwidth\": 1}, \"coloraxis\": {\"colorbar\": {\"outlinewidth\": 0, \"ticks\": \"\"}}, \"colorscale\": {\"diverging\": [[0, \"#8e0152\"], [0.1, \"#c51b7d\"], [0.2, \"#de77ae\"], [0.3, \"#f1b6da\"], [0.4, \"#fde0ef\"], [0.5, \"#f7f7f7\"], [0.6, \"#e6f5d0\"], [0.7, \"#b8e186\"], [0.8, \"#7fbc41\"], [0.9, \"#4d9221\"], [1, \"#276419\"]], \"sequential\": [[0.0, \"#0d0887\"], [0.1111111111111111, \"#46039f\"], [0.2222222222222222, \"#7201a8\"], [0.3333333333333333, \"#9c179e\"], [0.4444444444444444, \"#bd3786\"], [0.5555555555555556, \"#d8576b\"], [0.6666666666666666, \"#ed7953\"], [0.7777777777777778, \"#fb9f3a\"], [0.8888888888888888, \"#fdca26\"], [1.0, \"#f0f921\"]], \"sequentialminus\": [[0.0, \"#0d0887\"], [0.1111111111111111, \"#46039f\"], [0.2222222222222222, \"#7201a8\"], [0.3333333333333333, \"#9c179e\"], [0.4444444444444444, \"#bd3786\"], [0.5555555555555556, \"#d8576b\"], [0.6666666666666666, \"#ed7953\"], [0.7777777777777778, \"#fb9f3a\"], [0.8888888888888888, \"#fdca26\"], [1.0, \"#f0f921\"]]}, \"colorway\": [\"#636efa\", \"#EF553B\", \"#00cc96\", \"#ab63fa\", \"#FFA15A\", \"#19d3f3\", \"#FF6692\", \"#B6E880\", \"#FF97FF\", \"#FECB52\"], \"font\": {\"color\": \"#2a3f5f\"}, \"geo\": {\"bgcolor\": \"white\", \"lakecolor\": \"white\", \"landcolor\": \"#E5ECF6\", \"showlakes\": true, \"showland\": true, \"subunitcolor\": \"white\"}, \"hoverlabel\": {\"align\": \"left\"}, \"hovermode\": \"closest\", \"mapbox\": {\"style\": \"light\"}, \"paper_bgcolor\": \"white\", \"plot_bgcolor\": \"#E5ECF6\", \"polar\": {\"angularaxis\": {\"gridcolor\": \"white\", \"linecolor\": \"white\", \"ticks\": \"\"}, \"bgcolor\": \"#E5ECF6\", \"radialaxis\": {\"gridcolor\": \"white\", \"linecolor\": \"white\", \"ticks\": \"\"}}, \"scene\": {\"xaxis\": {\"backgroundcolor\": \"#E5ECF6\", \"gridcolor\": \"white\", \"gridwidth\": 2, \"linecolor\": \"white\", \"showbackground\": true, \"ticks\": \"\", \"zerolinecolor\": \"white\"}, \"yaxis\": {\"backgroundcolor\": \"#E5ECF6\", \"gridcolor\": \"white\", \"gridwidth\": 2, \"linecolor\": \"white\", \"showbackground\": true, \"ticks\": \"\", \"zerolinecolor\": \"white\"}, \"zaxis\": {\"backgroundcolor\": \"#E5ECF6\", \"gridcolor\": \"white\", \"gridwidth\": 2, \"linecolor\": \"white\", \"showbackground\": true, \"ticks\": \"\", \"zerolinecolor\": \"white\"}}, \"shapedefaults\": {\"line\": {\"color\": \"#2a3f5f\"}}, \"ternary\": {\"aaxis\": {\"gridcolor\": \"white\", \"linecolor\": \"white\", \"ticks\": \"\"}, \"baxis\": {\"gridcolor\": \"white\", \"linecolor\": \"white\", \"ticks\": \"\"}, \"bgcolor\": \"#E5ECF6\", \"caxis\": {\"gridcolor\": \"white\", \"linecolor\": \"white\", \"ticks\": \"\"}}, \"title\": {\"x\": 0.05}, \"xaxis\": {\"automargin\": true, \"gridcolor\": \"white\", \"linecolor\": \"white\", \"ticks\": \"\", \"title\": {\"standoff\": 15}, \"zerolinecolor\": \"white\", \"zerolinewidth\": 2}, \"yaxis\": {\"automargin\": true, \"gridcolor\": \"white\", \"linecolor\": \"white\", \"ticks\": \"\", \"title\": {\"standoff\": 15}, \"zerolinecolor\": \"white\", \"zerolinewidth\": 2}}}, \"xaxis\": {\"anchor\": \"y\", \"domain\": [0.0, 1.0], \"title\": {\"text\": \"timestep\"}}, \"yaxis\": {\"anchor\": \"x\", \"domain\": [0.0, 1.0], \"title\": {\"text\": \"value\"}}},                        {\"responsive\": true}                    ).then(function(){\n",
       "                            \n",
       "var gd = document.getElementById('34700968-8bd5-4903-abb6-588bd4e1a890');\n",
       "var x = new MutationObserver(function (mutations, observer) {{\n",
       "        var display = window.getComputedStyle(gd).display;\n",
       "        if (!display || display === 'none') {{\n",
       "            console.log([gd, 'removed!']);\n",
       "            Plotly.purge(gd);\n",
       "            observer.disconnect();\n",
       "        }}\n",
       "}});\n",
       "\n",
       "// Listen for the removal of the full notebook cells\n",
       "var notebookContainer = gd.closest('#notebook-container');\n",
       "if (notebookContainer) {{\n",
       "    x.observe(notebookContainer, {childList: true});\n",
       "}}\n",
       "\n",
       "// Listen for the clearing of the current output cell\n",
       "var outputEl = gd.closest('.output');\n",
       "if (outputEl) {{\n",
       "    x.observe(outputEl, {childList: true});\n",
       "}}\n",
       "\n",
       "                        })                };                });            </script>        </div>"
      ]
     },
     "metadata": {},
     "output_type": "display_data"
    }
   ],
   "source": [
    "import pandas as pd\n",
    "pd.options.plotting.backend = \"plotly\"\n",
    "\n",
    "# The following statements are incomplete - fill in the gaps and run the cell\n",
    "diff_df = df.query('simulation == 1').copy()\n",
    "diff_df['food_diff'] = diff_df['food'].diff()\n",
    "diff_df.plot(kind='line', x='timestep', y=['food_diff'])"
   ]
  },
  {
   "cell_type": "markdown",
   "metadata": {},
   "source": [
    "### 4. What does the above plot tell you about the food growth over time? (Hint: the value was the **rate of change** of the food supply)"
   ]
  },
  {
   "cell_type": "markdown",
   "metadata": {},
   "source": [
    "*Answer here in the markdown cell:*\n",
    "After around timestep 100, the food supply rate changes from positive to negative, thus representing negative growth rate in relationship of course to population. But then, the rate improves a bit and seems to stabilize."
   ]
  },
  {
   "cell_type": "markdown",
   "metadata": {},
   "source": [
    "<br/><br/><br/>\n",
    "# Well done!\n",
    "<br/><br/><br/><br/>"
   ]
  }
 ],
 "metadata": {
  "kernelspec": {
   "display_name": "Python 3 (ipykernel)",
   "language": "python",
   "name": "python3"
  },
  "language_info": {
   "codemirror_mode": {
    "name": "ipython",
    "version": 3
   },
   "file_extension": ".py",
   "mimetype": "text/x-python",
   "name": "python",
   "nbconvert_exporter": "python",
   "pygments_lexer": "ipython3",
   "version": "3.9.12"
  }
 },
 "nbformat": 4,
 "nbformat_minor": 4
}
