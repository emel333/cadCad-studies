{
 "cells": [
  {
   "cell_type": "code",
   "execution_count": 3,
   "id": "a4673845",
   "metadata": {},
   "outputs": [],
   "source": [
    "#! pip install cadCAD"
   ]
  },
  {
   "cell_type": "code",
   "execution_count": 5,
   "id": "cda4db90",
   "metadata": {},
   "outputs": [],
   "source": [
    "#! pip install statsmodels"
   ]
  },
  {
   "cell_type": "code",
   "execution_count": 9,
   "id": "6bd7c978",
   "metadata": {},
   "outputs": [
    {
     "name": "stdout",
     "output_type": "stream",
     "text": [
      "Name: cadCAD\r\n",
      "Version: 0.4.28\r\n",
      "Summary: cadCAD: a differential games based simulation software package for research, validation, and         Computer Aided Design of economic systems\r\n",
      "Home-page: https://github.com/cadCAD-org/cadCAD\r\n",
      "Author: Joshua E. Jodesty\r\n",
      "Author-email: joshua@block.science\r\n",
      "License: LICENSE.txt\r\n",
      "Location: /Users/tajiri/opt/anaconda3/lib/python3.9/site-packages\r\n",
      "Requires: dill, numpy, six, pathos, fn, funcy, pandas, pytz\r\n",
      "Required-by: \r\n"
     ]
    }
   ],
   "source": [
    "! pip show cadCAD"
   ]
  },
  {
   "cell_type": "code",
   "execution_count": 6,
   "id": "b23742e2",
   "metadata": {},
   "outputs": [],
   "source": [
    "import matplotlib.pyplot as plt\n",
    "import pandas as pd\n",
    "import numpy as np\n",
    "import seaborn as sns\n",
    "import plotly.express as px\n",
    "import cadCAD"
   ]
  },
  {
   "cell_type": "code",
   "execution_count": null,
   "id": "6f3bac1b",
   "metadata": {},
   "outputs": [],
   "source": []
  },
  {
   "cell_type": "code",
   "execution_count": null,
   "id": "9201a58b",
   "metadata": {},
   "outputs": [],
   "source": []
  }
 ],
 "metadata": {
  "kernelspec": {
   "display_name": "Python 3 (ipykernel)",
   "language": "python",
   "name": "python3"
  },
  "language_info": {
   "codemirror_mode": {
    "name": "ipython",
    "version": 3
   },
   "file_extension": ".py",
   "mimetype": "text/x-python",
   "name": "python",
   "nbconvert_exporter": "python",
   "pygments_lexer": "ipython3",
   "version": "3.9.12"
  }
 },
 "nbformat": 4,
 "nbformat_minor": 5
}
